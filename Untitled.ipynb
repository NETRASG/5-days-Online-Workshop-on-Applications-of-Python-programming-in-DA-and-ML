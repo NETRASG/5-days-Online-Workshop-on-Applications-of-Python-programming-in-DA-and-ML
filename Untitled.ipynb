{
  "nbformat": 4,
  "nbformat_minor": 0,
  "metadata": {
    "colab": {
      "name": "Untitled",
      "provenance": [],
      "collapsed_sections": [],
      "authorship_tag": "ABX9TyNiuboWLyrwTfZMbjRUXJOy",
      "include_colab_link": true
    },
    "kernelspec": {
      "name": "python3",
      "display_name": "Python 3"
    }
  },
  "cells": [
    {
      "cell_type": "markdown",
      "metadata": {
        "id": "view-in-github",
        "colab_type": "text"
      },
      "source": [
        "<a href=\"https://colab.research.google.com/github/NETRASG/5-days-Online-Workshop-on-Applications-of-Python-programming-in-DA-and-ML/blob/master/Untitled.ipynb\" target=\"_parent\"><img src=\"https://colab.research.google.com/assets/colab-badge.svg\" alt=\"Open In Colab\"/></a>"
      ]
    },
    {
      "cell_type": "code",
      "metadata": {
        "id": "clqCWQ6zRt8E",
        "colab_type": "code",
        "outputId": "452d6313-c125-49b3-d5ca-7c8d484ab251",
        "colab": {
          "base_uri": "https://localhost:8080/",
          "height": 55
        }
      },
      "source": [
        "# print multiples of 3 upto 200 using a list\n",
        "n=200\n",
        "a=[]\n",
        "for i in range(n):\n",
        "  x=3*i\n",
        "  if x<=200:\n",
        "    a.append(x)\n",
        "\n",
        "print(a)\n"
      ],
      "execution_count": 0,
      "outputs": [
        {
          "output_type": "stream",
          "text": [
            "[0, 3, 6, 9, 12, 15, 18, 21, 24, 27, 30, 33, 36, 39, 42, 45, 48, 51, 54, 57, 60, 63, 66, 69, 72, 75, 78, 81, 84, 87, 90, 93, 96, 99, 102, 105, 108, 111, 114, 117, 120, 123, 126, 129, 132, 135, 138, 141, 144, 147, 150, 153, 156, 159, 162, 165, 168, 171, 174, 177, 180, 183, 186, 189, 192, 195, 198]\n"
          ],
          "name": "stdout"
        }
      ]
    },
    {
      "cell_type": "code",
      "metadata": {
        "id": "_Hop3d7HTee1",
        "colab_type": "code",
        "outputId": "138b048b-6ec8-4f96-adb1-9d6b0ce25310",
        "colab": {
          "base_uri": "https://localhost:8080/",
          "height": 55
        }
      },
      "source": [
        "# print multiples of 3 upto 200 using a list\n",
        "mul=[x for x in range(200) if x % 3==0 if x<=200]\n",
        "print(mul)"
      ],
      "execution_count": 0,
      "outputs": [
        {
          "output_type": "stream",
          "text": [
            "[0, 3, 6, 9, 12, 15, 18, 21, 24, 27, 30, 33, 36, 39, 42, 45, 48, 51, 54, 57, 60, 63, 66, 69, 72, 75, 78, 81, 84, 87, 90, 93, 96, 99, 102, 105, 108, 111, 114, 117, 120, 123, 126, 129, 132, 135, 138, 141, 144, 147, 150, 153, 156, 159, 162, 165, 168, 171, 174, 177, 180, 183, 186, 189, 192, 195, 198]\n"
          ],
          "name": "stdout"
        }
      ]
    },
    {
      "cell_type": "code",
      "metadata": {
        "id": "n9ccYA3tXY0Y",
        "colab_type": "code",
        "outputId": "59f916b5-faaa-445e-b887-ce43d8576554",
        "colab": {
          "base_uri": "https://localhost:8080/",
          "height": 35
        }
      },
      "source": [
        "# print the nos only divisable by 5 and 7 between 1000 and 2000 using a list( both inclusive)\n",
        "\n",
        "div=[x for x in range(1000,2001) if x % 5==0 if x % 7==0]\n",
        "print(div)"
      ],
      "execution_count": 0,
      "outputs": [
        {
          "output_type": "stream",
          "text": [
            "[1015, 1050, 1085, 1120, 1155, 1190, 1225, 1260, 1295, 1330, 1365, 1400, 1435, 1470, 1505, 1540, 1575, 1610, 1645, 1680, 1715, 1750, 1785, 1820, 1855, 1890, 1925, 1960, 1995]\n"
          ],
          "name": "stdout"
        }
      ]
    },
    {
      "cell_type": "code",
      "metadata": {
        "id": "gPklh2KXYJ_T",
        "colab_type": "code",
        "outputId": "d93a9f75-af69-4b4f-e87c-43fe494f4b52",
        "colab": {
          "base_uri": "https://localhost:8080/",
          "height": 70
        }
      },
      "source": [
        "#Add the n number of names in a list and print them alphabetically and reverse alphabetically.\n",
        "my_list=['netra','suresh','rohan','abcd','dcba']\n",
        "n=int(input(\"n = \"))\n",
        "s=\"\"\n",
        "for i in range(n):\n",
        "  s=s+my_list[i]\n",
        "print(str(s))\n",
        "print(s[::-1])"
      ],
      "execution_count": 0,
      "outputs": [
        {
          "output_type": "stream",
          "text": [
            "n = 4\n",
            "netrasureshrohanabcd\n",
            "dcbanahorhserusarten\n"
          ],
          "name": "stdout"
        }
      ]
    },
    {
      "cell_type": "code",
      "metadata": {
        "id": "ZvVW6LMDdOrI",
        "colab_type": "code",
        "outputId": "f0397e9a-3675-4152-d305-5213ddad41e9",
        "colab": {
          "base_uri": "https://localhost:8080/",
          "height": 35
        }
      },
      "source": [
        "#Print  perfect squares and divisible by 5 between 500 and 1000( (both inclusive) using list\n",
        "a=[]\n",
        "for i in range(100):\n",
        "  x=i*i\n",
        "  if(x>=500 and x<=1000 and x % 5==0):\n",
        "    a.append(x)\n",
        "print(a)\n"
      ],
      "execution_count": 0,
      "outputs": [
        {
          "output_type": "stream",
          "text": [
            "[625, 900]\n"
          ],
          "name": "stdout"
        }
      ]
    },
    {
      "cell_type": "code",
      "metadata": {
        "id": "mq0CCPiFgiIX",
        "colab_type": "code",
        "colab": {
          "base_uri": "https://localhost:8080/",
          "height": 197
        },
        "outputId": "160f13dc-3ae5-49cb-bb30-73f358694998"
      },
      "source": [
        "#Get  a string and store word by word as elements in a tuple and find the largest word in the  tuple and print it\n",
        "txt = \"a string and store word by word as elements in a tuple and find thelargest word in the  tuple and print it\"\n",
        "words = txt.split()\n",
        "print(words,'\\n')\n",
        "t = []\n",
        "for word in words:\n",
        "   t.append((len(word), word))\n",
        "print(t,'\\n')\n",
        "t.sort(reverse=True)\n",
        "print(t,'\\n')\n",
        "\n",
        "res = list()\n",
        "for length, word in t:\n",
        "    res.append(word)\n",
        "    \n",
        "\n",
        "print(res,'\\n')\n",
        "print('longest element is = ',res[0])\n",
        "\n",
        "\n",
        "  \n",
        "  \n",
        "  \n"
      ],
      "execution_count": 55,
      "outputs": [
        {
          "output_type": "stream",
          "text": [
            "['a', 'string', 'and', 'store', 'word', 'by', 'word', 'as', 'elements', 'in', 'a', 'tuple', 'and', 'find', 'thelargest', 'word', 'in', 'the', 'tuple', 'and', 'print', 'it'] \n",
            "\n",
            "[(1, 'a'), (6, 'string'), (3, 'and'), (5, 'store'), (4, 'word'), (2, 'by'), (4, 'word'), (2, 'as'), (8, 'elements'), (2, 'in'), (1, 'a'), (5, 'tuple'), (3, 'and'), (4, 'find'), (10, 'thelargest'), (4, 'word'), (2, 'in'), (3, 'the'), (5, 'tuple'), (3, 'and'), (5, 'print'), (2, 'it')] \n",
            "\n",
            "[(10, 'thelargest'), (8, 'elements'), (6, 'string'), (5, 'tuple'), (5, 'tuple'), (5, 'store'), (5, 'print'), (4, 'word'), (4, 'word'), (4, 'word'), (4, 'find'), (3, 'the'), (3, 'and'), (3, 'and'), (3, 'and'), (2, 'it'), (2, 'in'), (2, 'in'), (2, 'by'), (2, 'as'), (1, 'a'), (1, 'a')] \n",
            "\n",
            "['thelargest', 'elements', 'string', 'tuple', 'tuple', 'store', 'print', 'word', 'word', 'word', 'find', 'the', 'and', 'and', 'and', 'it', 'in', 'in', 'by', 'as', 'a', 'a'] \n",
            "\n",
            "longest element is =  thelargest\n"
          ],
          "name": "stdout"
        }
      ]
    }
  ]
}