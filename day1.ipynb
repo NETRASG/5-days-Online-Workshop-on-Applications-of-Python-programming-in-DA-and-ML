{
  "nbformat": 4,
  "nbformat_minor": 0,
  "metadata": {
    "colab": {
      "name": "Untitled0.ipynb",
      "provenance": [],
      "collapsed_sections": [],
      "authorship_tag": "ABX9TyNZ8O4s/qmI7t/9jawamr4T",
      "include_colab_link": true
    },
    "kernelspec": {
      "name": "python3",
      "display_name": "Python 3"
    }
  },
  "cells": [
    {
      "cell_type": "markdown",
      "metadata": {
        "id": "view-in-github",
        "colab_type": "text"
      },
      "source": [
        "<a href=\"https://colab.research.google.com/github/NETRASG/5-days-Online-Workshop-on-Applications-of-Python-programming-in-DA-and-ML/blob/master/day1.ipynb\" target=\"_parent\"><img src=\"https://colab.research.google.com/assets/colab-badge.svg\" alt=\"Open In Colab\"/></a>"
      ]
    },
    {
      "cell_type": "markdown",
      "metadata": {
        "id": "goxkp7zjniXI",
        "colab_type": "text"
      },
      "source": [
        "sum of two number"
      ]
    },
    {
      "cell_type": "code",
      "metadata": {
        "id": "yvFFjFhSnlbZ",
        "colab_type": "code",
        "colab": {
          "base_uri": "https://localhost:8080/",
          "height": 70
        },
        "outputId": "ea57aeba-cd2d-46af-d193-be3b800a6fd5"
      },
      "source": [
        "n1=int(input(\"num1 : \"))\n",
        "n2=int(input(\"num2 : \"))\n",
        "sum=n1+n2\n",
        "print(\"sum : \"+str(sum))"
      ],
      "execution_count": 2,
      "outputs": [
        {
          "output_type": "stream",
          "text": [
            "num1 : 4\n",
            "num2 : 6\n",
            "sum : 10\n"
          ],
          "name": "stdout"
        }
      ]
    },
    {
      "cell_type": "code",
      "metadata": {
        "id": "0YrjRkwrqDW0",
        "colab_type": "code",
        "colab": {
          "base_uri": "https://localhost:8080/",
          "height": 52
        },
        "outputId": "7362571e-db7a-4d48-9f4e-d479aee28a36"
      },
      "source": [
        "# To get year (integer input) from the user\n",
        "year = int(input(\"Enter a year: \"))\n",
        "\n",
        "if ((year % 4) == 0 and (year % 100)  != 0) or ((year % 400) == 0):\n",
        "           print(\"{0} is a leap year\".format(year))\n",
        "else:\n",
        "           print(\"{0} is not a leap year\".format(year))\n"
      ],
      "execution_count": 8,
      "outputs": [
        {
          "output_type": "stream",
          "text": [
            "Enter a year: 2015\n",
            "2015 is not a leap year\n"
          ],
          "name": "stdout"
        }
      ]
    },
    {
      "cell_type": "code",
      "metadata": {
        "id": "A6xuOyX8qtUW",
        "colab_type": "code",
        "colab": {
          "base_uri": "https://localhost:8080/",
          "height": 88
        },
        "outputId": "f5bd1755-39cf-4f7b-f867-131d3c331c2b"
      },
      "source": [
        "#1.\tFind the compound interest for the given p,n,r  (formula : p(1+n*r/100)n )\n",
        "\n",
        "p=int(input(\"enter the value of p = \"))\n",
        "n=int(input(\"enter the value of the n = \"))\n",
        "r=int(input(\"enter the value of the r = \"))\n",
        "total=p*(1+n*r/100)*n\n",
        "print(total)"
      ],
      "execution_count": 11,
      "outputs": [
        {
          "output_type": "stream",
          "text": [
            "enter the value of p = 10\n",
            "enter the value of the n = 10\n",
            "enter the value of the r = 10\n",
            "200.0\n"
          ],
          "name": "stdout"
        }
      ]
    },
    {
      "cell_type": "code",
      "metadata": {
        "id": "nNTk8HwbsNVs",
        "colab_type": "code",
        "colab": {
          "base_uri": "https://localhost:8080/",
          "height": 52
        },
        "outputId": "102ecef1-42b8-4812-bb50-683a22757c00"
      },
      "source": [
        "#2.\tConvert centegrade to farenheit  ( f= 9/5*c+32)\n",
        "centi=int(input(\"centi =\"))\n",
        "f=9/5*centi+32\n",
        "print(f)"
      ],
      "execution_count": 1,
      "outputs": [
        {
          "output_type": "stream",
          "text": [
            "centi30\n",
            "86.0\n"
          ],
          "name": "stdout"
        }
      ]
    },
    {
      "cell_type": "code",
      "metadata": {
        "id": "2gQxPB9NLKz8",
        "colab_type": "code",
        "colab": {
          "base_uri": "https://localhost:8080/",
          "height": 67
        },
        "outputId": "5276f381-43cd-4cc6-ccd5-cac7d390d259"
      },
      "source": [
        "# 3.\tFind the greater of two nos \n",
        "a=int(input(\"enter first element = \"))\n",
        "b=int(input(\"enter the second element = \"))\n",
        "if a>b:\n",
        "  print(\"{0} is greater than {1} \".format(a,b))\n",
        "else:\n",
        "  print(\"{0} is greater than {1} \".format(b,a))"
      ],
      "execution_count": 4,
      "outputs": [
        {
          "output_type": "stream",
          "text": [
            "enter first element = 10\n",
            "enter the second element = 19\n",
            "19 is greater than 10 \n"
          ],
          "name": "stdout"
        }
      ]
    },
    {
      "cell_type": "code",
      "metadata": {
        "id": "2--UxBKzMqLl",
        "colab_type": "code",
        "colab": {
          "base_uri": "https://localhost:8080/",
          "height": 84
        },
        "outputId": "8a50f85b-1377-47f1-e300-34b5d16090a5"
      },
      "source": [
        "# 4.\tWrite a program for finding surface areas of cylinder and cone (2*PI*r*r*h, 1/3*PI*r*r*h) using function.\n",
        "\n",
        "PI=3.141\n",
        "r=int(input(\"enter the value of radius = \"))\n",
        "h=int(input(\"enter the value of height = \"))\n",
        "surf_area_cyli=2*PI*r*r*h\n",
        "surf_area_cone=(1/3)*PI*r*r*h\n",
        "print(\"surface area of the cylinder is = {0}\".format(surf_area_cyli))\n",
        "print(\"surface area of the cone is = {0}\".format(surf_area_cone))"
      ],
      "execution_count": 7,
      "outputs": [
        {
          "output_type": "stream",
          "text": [
            "enter the value of radius = 4\n",
            "enter the value of height = 5\n",
            "surface area of the cylinder is = 502.56\n",
            "surface area of the cone is = 83.75999999999999\n"
          ],
          "name": "stdout"
        }
      ]
    },
    {
      "cell_type": "code",
      "metadata": {
        "id": "Q_XApyz7Peoo",
        "colab_type": "code",
        "colab": {
          "base_uri": "https://localhost:8080/",
          "height": 101
        },
        "outputId": "5ef64ae9-33d4-4eff-dfc2-2aa801856b15"
      },
      "source": [
        "#5.\tFind the greatest of four nos ( using ‘and’ operator)   using function.\n",
        "a=int(input(\"enter first element = \"))\n",
        "b=int(input(\"enter second element = \"))\n",
        "c=int(input(\"enter third element = \"))\n",
        "d=int(input(\"enter fourth element = \"))\n",
        "\n",
        "if((a>b)and(a>c)and(a>d)):\n",
        "  print(\"{0} is greater than {1},{2},{3} \".format(a,b,c,d))\n",
        "elif((b>a)and(b>c)and(b>d)):\n",
        "  print(\"{1} is greater than {0},{2},{3} \".format(b,a,c,d))\n",
        "elif((c>a)and(c>b)and(c>d)):\n",
        "  print(\"{2} is greater than {0},{1},{3} \".format(c,a,b,d))\n",
        "else:\n",
        "  print(\"{3} is greater than {0},{1},{2} \".format(d,a,b,c))"
      ],
      "execution_count": 11,
      "outputs": [
        {
          "output_type": "stream",
          "text": [
            "enter first element = 10\n",
            "enter second element = 20\n",
            "enter third element = 30\n",
            "enter fourth element = 4\n",
            "20 is greater than 30,10,4 \n"
          ],
          "name": "stdout"
        }
      ]
    },
    {
      "cell_type": "code",
      "metadata": {
        "id": "_Q1Q7AYMTqZz",
        "colab_type": "code",
        "colab": {
          "base_uri": "https://localhost:8080/",
          "height": 168
        },
        "outputId": "b6f1e910-5c27-432d-844b-ad2efc5ca135"
      },
      "source": [
        "# 1 Write a program to print the triangle \n",
        "# 2 Enter number 4\n",
        "\n",
        "# *\n",
        "# * *\n",
        "# * * *\n",
        "# * * * *\n",
        "\n",
        "\n",
        "n=int(input(\"n = \"))\n",
        "for i in range(1,n+1):\n",
        "  for j in range(i):\n",
        "    print('*',end=\" \")\n",
        "  print(\"\\n\")\n",
        "\n",
        "\n",
        "\n"
      ],
      "execution_count": 30,
      "outputs": [
        {
          "output_type": "stream",
          "text": [
            "n = 4\n",
            "* \n",
            "\n",
            "* * \n",
            "\n",
            "* * * \n",
            "\n",
            "* * * * \n",
            "\n"
          ],
          "name": "stdout"
        }
      ]
    },
    {
      "cell_type": "code",
      "metadata": {
        "id": "viMroOS2cS_5",
        "colab_type": "code",
        "colab": {
          "base_uri": "https://localhost:8080/",
          "height": 202
        },
        "outputId": "d60b833d-db4c-4863-a41f-dd25240732de"
      },
      "source": [
        "#  Enter number 5\n",
        "\n",
        "# 5\n",
        "# 4 5\n",
        "# 3 4 5\n",
        "# 2 3 4 5\n",
        "# 1 2 3 4 5\n",
        "\n",
        "n=int(input(\"n = \"))\n",
        "for i in range(n+1,1,-1):\n",
        "  for j in range(i-1,n+1,1):\n",
        "    print(j,end=\" \")\n",
        "  print(\"\\n\")"
      ],
      "execution_count": 65,
      "outputs": [
        {
          "output_type": "stream",
          "text": [
            "n = 5\n",
            "5 \n",
            "\n",
            "4 5 \n",
            "\n",
            "3 4 5 \n",
            "\n",
            "2 3 4 5 \n",
            "\n",
            "1 2 3 4 5 \n",
            "\n"
          ],
          "name": "stdout"
        }
      ]
    },
    {
      "cell_type": "code",
      "metadata": {
        "id": "N3z-IaHac8Ab",
        "colab_type": "code",
        "colab": {
          "base_uri": "https://localhost:8080/",
          "height": 101
        },
        "outputId": "9b2f227a-2a15-41d7-df05-dd4039983e9d"
      },
      "source": [
        "# i/p  4\n",
        "\n",
        "# 1\n",
        "# 2    3\n",
        "# 3    4   5\n",
        "# 4    5   6   7\n",
        "\n",
        "k=1\n",
        "n=int(input(\"enter n value: \"))\n",
        "for i in range(0,n):\n",
        "  if(i>=2):\n",
        "    k=i+1\n",
        "  for j in range(0,i+1):\n",
        "    print(k,end=\" \")\n",
        "    k=k+1\n",
        "  print()\n",
        "\n"
      ],
      "execution_count": 103,
      "outputs": [
        {
          "output_type": "stream",
          "text": [
            "enter n value: 4\n",
            "1 \n",
            "2 3 \n",
            "3 4 5 \n",
            "4 5 6 7 \n"
          ],
          "name": "stdout"
        }
      ]
    },
    {
      "cell_type": "code",
      "metadata": {
        "id": "SpfcXZPFhL9t",
        "colab_type": "code",
        "colab": {
          "base_uri": "https://localhost:8080/",
          "height": 151
        },
        "outputId": "136ac089-a06c-412e-ea2e-4151cdc81dda"
      },
      "source": [
        "# Enter number 4\n",
        "\n",
        "# 1 2 3 4\n",
        "# 2 3 4\n",
        "# 3 4\n",
        "# 4\n",
        "# 3 4\n",
        "# 2 3 4\n",
        "# 1 2 3 4\n",
        "\n",
        "rows = 5\n",
        "n=rows-1\n",
        "for i in range(1, rows-1):\n",
        "    for j in range(i,rows):\n",
        "        print(j,end=\" \")\n",
        "    print()\n",
        "for i in range(n+1,0,-1):\n",
        "  for j in range(i,n+1):\n",
        "    print(j,end=\" \")\n",
        "  print()\n"
      ],
      "execution_count": 104,
      "outputs": [
        {
          "output_type": "stream",
          "text": [
            "1 2 3 4 \n",
            "2 3 4 \n",
            "3 4 \n",
            "\n",
            "4 \n",
            "3 4 \n",
            "2 3 4 \n",
            "1 2 3 4 \n"
          ],
          "name": "stdout"
        }
      ]
    },
    {
      "cell_type": "code",
      "metadata": {
        "id": "3M4l-k7SY2OS",
        "colab_type": "code",
        "colab": {
          "base_uri": "https://localhost:8080/",
          "height": 134
        },
        "outputId": "de5784cf-e88b-4a79-f882-ba57c5480305"
      },
      "source": [
        "# Enter number 5\n",
        "\n",
        "# 5 4 3 2 1\n",
        "# 4 3 2 1\n",
        "# 3 2 1\n",
        "# 2 1\n",
        "# 1\n",
        "rows =int(input(\"row = \"))\n",
        "for i in range(0, rows + 1):\n",
        "    for j in range(rows - i, 0, -1):\n",
        "        print(j, end=' ')\n",
        "    print()\n",
        "\n"
      ],
      "execution_count": 96,
      "outputs": [
        {
          "output_type": "stream",
          "text": [
            "row = 5\n",
            "5 4 3 2 1 \n",
            "4 3 2 1 \n",
            "3 2 1 \n",
            "2 1 \n",
            "1 \n",
            "\n"
          ],
          "name": "stdout"
        }
      ]
    },
    {
      "cell_type": "code",
      "metadata": {
        "id": "YmFaUjM4he81",
        "colab_type": "code",
        "colab": {
          "base_uri": "https://localhost:8080/",
          "height": 50
        },
        "outputId": "d4266fd3-66b2-4480-effe-7b9d59d812b5"
      },
      "source": [
        "#6 Find the length of a string without using len functions\n",
        "str = input(\"Enter a string: \")\n",
        "counter = 0\n",
        "for s in str:\n",
        "      counter = counter+1\n",
        "print(\"Length of the input string is:\", counter)"
      ],
      "execution_count": 105,
      "outputs": [
        {
          "output_type": "stream",
          "text": [
            "Enter a string: netra\n",
            "Length of the input string is: 5\n"
          ],
          "name": "stdout"
        }
      ]
    },
    {
      "cell_type": "code",
      "metadata": {
        "id": "FH0-tKb0hx8A",
        "colab_type": "code",
        "colab": {
          "base_uri": "https://localhost:8080/",
          "height": 101
        },
        "outputId": "c3b03820-79e4-4ce1-b2ed-a286e67efd66"
      },
      "source": [
        "#Find the no of words and characters in a string\n",
        "string=input(\"Enter string:\")\n",
        "char=0\n",
        "word=1\n",
        "for i in string:\n",
        "      char=char+1\n",
        "      if(i==' '):\n",
        "            word=word+1\n",
        "print(\"Number of words in the string:\")\n",
        "print(word)\n",
        "print(\"Number of characters in the string:\")\n",
        "print(char)"
      ],
      "execution_count": 107,
      "outputs": [
        {
          "output_type": "stream",
          "text": [
            "Enter string:fg hj\n",
            "Number of words in the string:\n",
            "2\n",
            "Number of characters in the string:\n",
            "5\n"
          ],
          "name": "stdout"
        }
      ]
    },
    {
      "cell_type": "code",
      "metadata": {
        "id": "ySy6E9ZOh_f-",
        "colab_type": "code",
        "colab": {
          "base_uri": "https://localhost:8080/",
          "height": 34
        },
        "outputId": "5d3db0c4-a281-4d1a-d6c8-a5a394d44ce7"
      },
      "source": [
        "#Find the no of occurrences of a word in a string\n",
        "\n",
        "def word_count(str):\n",
        "    counts = dict()\n",
        "    words = str.split(\" \")\n",
        "\n",
        "    for word in words:\n",
        "        if word in counts:\n",
        "            counts[word] += 1\n",
        "        else:\n",
        "            counts[word] = 1\n",
        "\n",
        "    return counts\n",
        "\n",
        "print( word_count('the quick brown fox jumps over the lazy dog.'))\n",
        "\n",
        "\n"
      ],
      "execution_count": 113,
      "outputs": [
        {
          "output_type": "stream",
          "text": [
            "{'the': 2, 'quick': 1, 'brown': 1, 'fox': 1, 'jumps': 1, 'over': 1, 'lazy': 1, 'dog.': 1}\n"
          ],
          "name": "stdout"
        }
      ]
    }
  ]
}